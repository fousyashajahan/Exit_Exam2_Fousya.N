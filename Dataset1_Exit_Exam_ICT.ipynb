{
 "cells": [
  {
   "cell_type": "code",
   "execution_count": 61,
   "id": "49ec9c5b-e0a6-4495-99a0-ea17d10aedc4",
   "metadata": {},
   "outputs": [],
   "source": [
    "import pandas as pd\n",
    "import numpy as np\n",
    "import matplotlib.pyplot as plt\n",
    "import seaborn as sns\n",
    "from sklearn.preprocessing import LabelEncoder\n",
    "from sklearn.preprocessing import MinMaxScaler\n",
    "from sklearn.model_selection import train_test_split\n",
    "from sklearn.linear_model import LogisticRegression\n",
    "from sklearn.tree import DecisionTreeClassifier\n",
    "from sklearn.metrics import accuracy_score,classification_report\n",
    "from sklearn.ensemble import RandomForestClassifier\n",
    "from sklearn.neighbors import KNeighborsClassifier\n",
    "from sklearn.svm import SVC"
   ]
  },
  {
   "cell_type": "code",
   "execution_count": 2,
   "id": "540ea571-b332-4e1f-b3b4-3646ce850bf9",
   "metadata": {},
   "outputs": [],
   "source": [
    "data=pd.read_csv(r\"C:\\Users\\LENOVO\\Downloads\\bank.csv\")"
   ]
  },
  {
   "cell_type": "code",
   "execution_count": 3,
   "id": "3361514f-c324-4998-973b-635197eac7f8",
   "metadata": {},
   "outputs": [
    {
     "data": {
      "text/html": [
       "<div>\n",
       "<style scoped>\n",
       "    .dataframe tbody tr th:only-of-type {\n",
       "        vertical-align: middle;\n",
       "    }\n",
       "\n",
       "    .dataframe tbody tr th {\n",
       "        vertical-align: top;\n",
       "    }\n",
       "\n",
       "    .dataframe thead th {\n",
       "        text-align: right;\n",
       "    }\n",
       "</style>\n",
       "<table border=\"1\" class=\"dataframe\">\n",
       "  <thead>\n",
       "    <tr style=\"text-align: right;\">\n",
       "      <th></th>\n",
       "      <th>age</th>\n",
       "      <th>job</th>\n",
       "      <th>marital</th>\n",
       "      <th>education</th>\n",
       "      <th>default</th>\n",
       "      <th>balance</th>\n",
       "      <th>housing</th>\n",
       "      <th>loan</th>\n",
       "      <th>contact</th>\n",
       "      <th>day</th>\n",
       "      <th>month</th>\n",
       "      <th>duration</th>\n",
       "      <th>campaign</th>\n",
       "      <th>pdays</th>\n",
       "      <th>previous</th>\n",
       "      <th>poutcome</th>\n",
       "      <th>y</th>\n",
       "    </tr>\n",
       "  </thead>\n",
       "  <tbody>\n",
       "    <tr>\n",
       "      <th>0</th>\n",
       "      <td>59</td>\n",
       "      <td>admin.</td>\n",
       "      <td>married</td>\n",
       "      <td>secondary</td>\n",
       "      <td>no</td>\n",
       "      <td>2343.0</td>\n",
       "      <td>yes</td>\n",
       "      <td>no</td>\n",
       "      <td>unknown</td>\n",
       "      <td>5.0</td>\n",
       "      <td>may</td>\n",
       "      <td>1042.0</td>\n",
       "      <td>1</td>\n",
       "      <td>-1.0</td>\n",
       "      <td>0</td>\n",
       "      <td>unknown</td>\n",
       "      <td>yes</td>\n",
       "    </tr>\n",
       "    <tr>\n",
       "      <th>1</th>\n",
       "      <td>56</td>\n",
       "      <td>admin.</td>\n",
       "      <td>married</td>\n",
       "      <td>secondary</td>\n",
       "      <td>no</td>\n",
       "      <td>45.0</td>\n",
       "      <td>no</td>\n",
       "      <td>no</td>\n",
       "      <td>unknown</td>\n",
       "      <td>5.0</td>\n",
       "      <td>may</td>\n",
       "      <td>1467.0</td>\n",
       "      <td>1</td>\n",
       "      <td>-1.0</td>\n",
       "      <td>0</td>\n",
       "      <td>unknown</td>\n",
       "      <td>yes</td>\n",
       "    </tr>\n",
       "    <tr>\n",
       "      <th>2</th>\n",
       "      <td>41</td>\n",
       "      <td>technician</td>\n",
       "      <td>married</td>\n",
       "      <td>secondary</td>\n",
       "      <td>no</td>\n",
       "      <td>1270.0</td>\n",
       "      <td>yes</td>\n",
       "      <td>no</td>\n",
       "      <td>unknown</td>\n",
       "      <td>5.0</td>\n",
       "      <td>may</td>\n",
       "      <td>1389.0</td>\n",
       "      <td>1</td>\n",
       "      <td>-1.0</td>\n",
       "      <td>0</td>\n",
       "      <td>unknown</td>\n",
       "      <td>yes</td>\n",
       "    </tr>\n",
       "  </tbody>\n",
       "</table>\n",
       "</div>"
      ],
      "text/plain": [
       "   age         job  marital  education default  balance housing loan  contact  \\\n",
       "0   59      admin.  married  secondary      no   2343.0     yes   no  unknown   \n",
       "1   56      admin.  married  secondary      no     45.0      no   no  unknown   \n",
       "2   41  technician  married  secondary      no   1270.0     yes   no  unknown   \n",
       "\n",
       "   day month  duration  campaign  pdays  previous poutcome    y  \n",
       "0  5.0   may    1042.0         1   -1.0         0  unknown  yes  \n",
       "1  5.0   may    1467.0         1   -1.0         0  unknown  yes  \n",
       "2  5.0   may    1389.0         1   -1.0         0  unknown  yes  "
      ]
     },
     "execution_count": 3,
     "metadata": {},
     "output_type": "execute_result"
    }
   ],
   "source": [
    "data.head(3)"
   ]
  },
  {
   "cell_type": "code",
   "execution_count": 4,
   "id": "7fe2ea64-fad2-4651-a608-6cf7c779bab3",
   "metadata": {},
   "outputs": [
    {
     "data": {
      "text/html": [
       "<div>\n",
       "<style scoped>\n",
       "    .dataframe tbody tr th:only-of-type {\n",
       "        vertical-align: middle;\n",
       "    }\n",
       "\n",
       "    .dataframe tbody tr th {\n",
       "        vertical-align: top;\n",
       "    }\n",
       "\n",
       "    .dataframe thead th {\n",
       "        text-align: right;\n",
       "    }\n",
       "</style>\n",
       "<table border=\"1\" class=\"dataframe\">\n",
       "  <thead>\n",
       "    <tr style=\"text-align: right;\">\n",
       "      <th></th>\n",
       "      <th>age</th>\n",
       "      <th>job</th>\n",
       "      <th>marital</th>\n",
       "      <th>education</th>\n",
       "      <th>default</th>\n",
       "      <th>balance</th>\n",
       "      <th>housing</th>\n",
       "      <th>loan</th>\n",
       "      <th>contact</th>\n",
       "      <th>day</th>\n",
       "      <th>month</th>\n",
       "      <th>duration</th>\n",
       "      <th>campaign</th>\n",
       "      <th>pdays</th>\n",
       "      <th>previous</th>\n",
       "      <th>poutcome</th>\n",
       "      <th>y</th>\n",
       "    </tr>\n",
       "  </thead>\n",
       "  <tbody>\n",
       "    <tr>\n",
       "      <th>10858</th>\n",
       "      <td>40</td>\n",
       "      <td>management</td>\n",
       "      <td>married</td>\n",
       "      <td>tertiary</td>\n",
       "      <td>no</td>\n",
       "      <td>2147.0</td>\n",
       "      <td>yes</td>\n",
       "      <td>no</td>\n",
       "      <td>unknown</td>\n",
       "      <td>30.0</td>\n",
       "      <td>may</td>\n",
       "      <td>115.0</td>\n",
       "      <td>1</td>\n",
       "      <td>-1.0</td>\n",
       "      <td>0</td>\n",
       "      <td>unknown</td>\n",
       "      <td>no</td>\n",
       "    </tr>\n",
       "    <tr>\n",
       "      <th>10859</th>\n",
       "      <td>43</td>\n",
       "      <td>blue-collar</td>\n",
       "      <td>married</td>\n",
       "      <td>secondary</td>\n",
       "      <td>no</td>\n",
       "      <td>1096.0</td>\n",
       "      <td>no</td>\n",
       "      <td>yes</td>\n",
       "      <td>unknown</td>\n",
       "      <td>30.0</td>\n",
       "      <td>may</td>\n",
       "      <td>180.0</td>\n",
       "      <td>1</td>\n",
       "      <td>-1.0</td>\n",
       "      <td>0</td>\n",
       "      <td>unknown</td>\n",
       "      <td>no</td>\n",
       "    </tr>\n",
       "    <tr>\n",
       "      <th>10860</th>\n",
       "      <td>41</td>\n",
       "      <td>admin.</td>\n",
       "      <td>single</td>\n",
       "      <td>tertiary</td>\n",
       "      <td>no</td>\n",
       "      <td>1455.0</td>\n",
       "      <td>yes</td>\n",
       "      <td>no</td>\n",
       "      <td>unknown</td>\n",
       "      <td>30.0</td>\n",
       "      <td>may</td>\n",
       "      <td>87.0</td>\n",
       "      <td>1</td>\n",
       "      <td>-1.0</td>\n",
       "      <td>0</td>\n",
       "      <td>unknown</td>\n",
       "      <td>no</td>\n",
       "    </tr>\n",
       "  </tbody>\n",
       "</table>\n",
       "</div>"
      ],
      "text/plain": [
       "       age          job  marital  education default  balance housing loan  \\\n",
       "10858   40   management  married   tertiary      no   2147.0     yes   no   \n",
       "10859   43  blue-collar  married  secondary      no   1096.0      no  yes   \n",
       "10860   41       admin.   single   tertiary      no   1455.0     yes   no   \n",
       "\n",
       "       contact   day month  duration  campaign  pdays  previous poutcome   y  \n",
       "10858  unknown  30.0   may     115.0         1   -1.0         0  unknown  no  \n",
       "10859  unknown  30.0   may     180.0         1   -1.0         0  unknown  no  \n",
       "10860  unknown  30.0   may      87.0         1   -1.0         0  unknown  no  "
      ]
     },
     "execution_count": 4,
     "metadata": {},
     "output_type": "execute_result"
    }
   ],
   "source": [
    "data.tail(3)"
   ]
  },
  {
   "cell_type": "code",
   "execution_count": 5,
   "id": "cde7dd47-5177-4f67-a805-e7a6a58a47e6",
   "metadata": {},
   "outputs": [
    {
     "name": "stdout",
     "output_type": "stream",
     "text": [
      "<class 'pandas.core.frame.DataFrame'>\n",
      "RangeIndex: 10861 entries, 0 to 10860\n",
      "Data columns (total 17 columns):\n",
      " #   Column     Non-Null Count  Dtype  \n",
      "---  ------     --------------  -----  \n",
      " 0   age        10861 non-null  int64  \n",
      " 1   job        10846 non-null  object \n",
      " 2   marital    10861 non-null  object \n",
      " 3   education  10852 non-null  object \n",
      " 4   default    10861 non-null  object \n",
      " 5   balance    10855 non-null  float64\n",
      " 6   housing    10861 non-null  object \n",
      " 7   loan       10858 non-null  object \n",
      " 8   contact    10850 non-null  object \n",
      " 9   day        10860 non-null  float64\n",
      " 10  month      10861 non-null  object \n",
      " 11  duration   10841 non-null  float64\n",
      " 12  campaign   10861 non-null  int64  \n",
      " 13  pdays      10842 non-null  float64\n",
      " 14  previous   10861 non-null  int64  \n",
      " 15  poutcome   10861 non-null  object \n",
      " 16  y          10861 non-null  object \n",
      "dtypes: float64(4), int64(3), object(10)\n",
      "memory usage: 1.4+ MB\n"
     ]
    }
   ],
   "source": [
    "data.info()"
   ]
  },
  {
   "cell_type": "code",
   "execution_count": 6,
   "id": "9a7d6bb8-b3a4-44c7-87a5-0ed675e9573a",
   "metadata": {},
   "outputs": [
    {
     "data": {
      "text/plain": [
       "(10861, 17)"
      ]
     },
     "execution_count": 6,
     "metadata": {},
     "output_type": "execute_result"
    }
   ],
   "source": [
    "data.shape"
   ]
  },
  {
   "cell_type": "code",
   "execution_count": 7,
   "id": "8bf2f398-c0fc-43bb-8c15-cfe0f113e988",
   "metadata": {},
   "outputs": [
    {
     "data": {
      "text/html": [
       "<div>\n",
       "<style scoped>\n",
       "    .dataframe tbody tr th:only-of-type {\n",
       "        vertical-align: middle;\n",
       "    }\n",
       "\n",
       "    .dataframe tbody tr th {\n",
       "        vertical-align: top;\n",
       "    }\n",
       "\n",
       "    .dataframe thead th {\n",
       "        text-align: right;\n",
       "    }\n",
       "</style>\n",
       "<table border=\"1\" class=\"dataframe\">\n",
       "  <thead>\n",
       "    <tr style=\"text-align: right;\">\n",
       "      <th></th>\n",
       "      <th>age</th>\n",
       "      <th>balance</th>\n",
       "      <th>day</th>\n",
       "      <th>duration</th>\n",
       "      <th>campaign</th>\n",
       "      <th>pdays</th>\n",
       "      <th>previous</th>\n",
       "    </tr>\n",
       "  </thead>\n",
       "  <tbody>\n",
       "    <tr>\n",
       "      <th>count</th>\n",
       "      <td>10861.000000</td>\n",
       "      <td>10855.000000</td>\n",
       "      <td>10860.000000</td>\n",
       "      <td>10841.000000</td>\n",
       "      <td>10861.000000</td>\n",
       "      <td>10842.000000</td>\n",
       "      <td>10861.000000</td>\n",
       "    </tr>\n",
       "    <tr>\n",
       "      <th>mean</th>\n",
       "      <td>40.323727</td>\n",
       "      <td>1457.746476</td>\n",
       "      <td>17.887937</td>\n",
       "      <td>386.267687</td>\n",
       "      <td>2.442593</td>\n",
       "      <td>33.002859</td>\n",
       "      <td>0.569929</td>\n",
       "    </tr>\n",
       "    <tr>\n",
       "      <th>std</th>\n",
       "      <td>11.969443</td>\n",
       "      <td>3077.475009</td>\n",
       "      <td>7.846315</td>\n",
       "      <td>345.403995</td>\n",
       "      <td>2.662568</td>\n",
       "      <td>90.004568</td>\n",
       "      <td>1.875257</td>\n",
       "    </tr>\n",
       "    <tr>\n",
       "      <th>min</th>\n",
       "      <td>18.000000</td>\n",
       "      <td>-3372.000000</td>\n",
       "      <td>1.000000</td>\n",
       "      <td>0.000000</td>\n",
       "      <td>1.000000</td>\n",
       "      <td>-1.000000</td>\n",
       "      <td>0.000000</td>\n",
       "    </tr>\n",
       "    <tr>\n",
       "      <th>25%</th>\n",
       "      <td>32.000000</td>\n",
       "      <td>107.000000</td>\n",
       "      <td>13.000000</td>\n",
       "      <td>156.000000</td>\n",
       "      <td>1.000000</td>\n",
       "      <td>-1.000000</td>\n",
       "      <td>0.000000</td>\n",
       "    </tr>\n",
       "    <tr>\n",
       "      <th>50%</th>\n",
       "      <td>38.000000</td>\n",
       "      <td>524.000000</td>\n",
       "      <td>18.000000</td>\n",
       "      <td>268.000000</td>\n",
       "      <td>2.000000</td>\n",
       "      <td>-1.000000</td>\n",
       "      <td>0.000000</td>\n",
       "    </tr>\n",
       "    <tr>\n",
       "      <th>75%</th>\n",
       "      <td>47.000000</td>\n",
       "      <td>1633.000000</td>\n",
       "      <td>26.000000</td>\n",
       "      <td>507.000000</td>\n",
       "      <td>3.000000</td>\n",
       "      <td>-1.000000</td>\n",
       "      <td>0.000000</td>\n",
       "    </tr>\n",
       "    <tr>\n",
       "      <th>max</th>\n",
       "      <td>334.000000</td>\n",
       "      <td>81204.000000</td>\n",
       "      <td>31.000000</td>\n",
       "      <td>3881.000000</td>\n",
       "      <td>63.000000</td>\n",
       "      <td>854.000000</td>\n",
       "      <td>58.000000</td>\n",
       "    </tr>\n",
       "  </tbody>\n",
       "</table>\n",
       "</div>"
      ],
      "text/plain": [
       "                age       balance           day      duration      campaign  \\\n",
       "count  10861.000000  10855.000000  10860.000000  10841.000000  10861.000000   \n",
       "mean      40.323727   1457.746476     17.887937    386.267687      2.442593   \n",
       "std       11.969443   3077.475009      7.846315    345.403995      2.662568   \n",
       "min       18.000000  -3372.000000      1.000000      0.000000      1.000000   \n",
       "25%       32.000000    107.000000     13.000000    156.000000      1.000000   \n",
       "50%       38.000000    524.000000     18.000000    268.000000      2.000000   \n",
       "75%       47.000000   1633.000000     26.000000    507.000000      3.000000   \n",
       "max      334.000000  81204.000000     31.000000   3881.000000     63.000000   \n",
       "\n",
       "              pdays      previous  \n",
       "count  10842.000000  10861.000000  \n",
       "mean      33.002859      0.569929  \n",
       "std       90.004568      1.875257  \n",
       "min       -1.000000      0.000000  \n",
       "25%       -1.000000      0.000000  \n",
       "50%       -1.000000      0.000000  \n",
       "75%       -1.000000      0.000000  \n",
       "max      854.000000     58.000000  "
      ]
     },
     "execution_count": 7,
     "metadata": {},
     "output_type": "execute_result"
    }
   ],
   "source": [
    "data.describe()"
   ]
  },
  {
   "cell_type": "code",
   "execution_count": 8,
   "id": "040b480a-4ad2-4b75-b92d-928ddb78de09",
   "metadata": {},
   "outputs": [
    {
     "data": {
      "text/plain": [
       "Index(['age', 'job', 'marital', 'education', 'default', 'balance', 'housing',\n",
       "       'loan', 'contact', 'day', 'month', 'duration', 'campaign', 'pdays',\n",
       "       'previous', 'poutcome', 'y'],\n",
       "      dtype='object')"
      ]
     },
     "execution_count": 8,
     "metadata": {},
     "output_type": "execute_result"
    }
   ],
   "source": [
    "data.columns"
   ]
  },
  {
   "cell_type": "markdown",
   "id": "c8213959-5858-457e-8613-3357bfaa2c85",
   "metadata": {},
   "source": [
    "### Check for duplicate rows"
   ]
  },
  {
   "cell_type": "code",
   "execution_count": 9,
   "id": "ae0d4470-ac5b-4bfb-82cd-5d2027e5f4d6",
   "metadata": {},
   "outputs": [
    {
     "data": {
      "text/plain": [
       "0"
      ]
     },
     "execution_count": 9,
     "metadata": {},
     "output_type": "execute_result"
    }
   ],
   "source": [
    "data.duplicated().sum()"
   ]
  },
  {
   "cell_type": "markdown",
   "id": "eee44956-b692-4cf1-9ec1-8daba5f128a7",
   "metadata": {},
   "source": [
    "### Check for null values"
   ]
  },
  {
   "cell_type": "code",
   "execution_count": 10,
   "id": "898f9aaa-6cba-43ea-9a5d-da5212ec9265",
   "metadata": {},
   "outputs": [
    {
     "data": {
      "text/plain": [
       "age           0\n",
       "job          15\n",
       "marital       0\n",
       "education     9\n",
       "default       0\n",
       "balance       6\n",
       "housing       0\n",
       "loan          3\n",
       "contact      11\n",
       "day           1\n",
       "month         0\n",
       "duration     20\n",
       "campaign      0\n",
       "pdays        19\n",
       "previous      0\n",
       "poutcome      0\n",
       "y             0\n",
       "dtype: int64"
      ]
     },
     "execution_count": 10,
     "metadata": {},
     "output_type": "execute_result"
    }
   ],
   "source": [
    "data.isna().sum()"
   ]
  },
  {
   "cell_type": "markdown",
   "id": "e86827cf-bd9d-4c2e-ab9a-f773e90e5ee8",
   "metadata": {},
   "source": [
    "### Drop the unwanted columns"
   ]
  },
  {
   "cell_type": "code",
   "execution_count": 11,
   "id": "e1bf9953-a51e-4d37-8957-b5582b3d95e8",
   "metadata": {},
   "outputs": [],
   "source": [
    "data.drop(columns=['education','marital','default','housing','contact', 'day', 'month','duration'],inplace=True)"
   ]
  },
  {
   "cell_type": "code",
   "execution_count": 12,
   "id": "ccb0730b-579f-4c38-98fb-30c929ac4f5a",
   "metadata": {},
   "outputs": [
    {
     "data": {
      "text/plain": [
       "array(['unknown', 'other', 'failure', 'success'], dtype=object)"
      ]
     },
     "execution_count": 12,
     "metadata": {},
     "output_type": "execute_result"
    }
   ],
   "source": [
    "data['poutcome'].unique()"
   ]
  },
  {
   "cell_type": "code",
   "execution_count": 13,
   "id": "574f31b4-bae5-42cf-b9d2-c00a4508a094",
   "metadata": {},
   "outputs": [
    {
     "data": {
      "text/html": [
       "<div>\n",
       "<style scoped>\n",
       "    .dataframe tbody tr th:only-of-type {\n",
       "        vertical-align: middle;\n",
       "    }\n",
       "\n",
       "    .dataframe tbody tr th {\n",
       "        vertical-align: top;\n",
       "    }\n",
       "\n",
       "    .dataframe thead th {\n",
       "        text-align: right;\n",
       "    }\n",
       "</style>\n",
       "<table border=\"1\" class=\"dataframe\">\n",
       "  <thead>\n",
       "    <tr style=\"text-align: right;\">\n",
       "      <th></th>\n",
       "      <th>age</th>\n",
       "      <th>job</th>\n",
       "      <th>balance</th>\n",
       "      <th>loan</th>\n",
       "      <th>campaign</th>\n",
       "      <th>pdays</th>\n",
       "      <th>previous</th>\n",
       "      <th>poutcome</th>\n",
       "      <th>y</th>\n",
       "    </tr>\n",
       "  </thead>\n",
       "  <tbody>\n",
       "    <tr>\n",
       "      <th>0</th>\n",
       "      <td>59</td>\n",
       "      <td>admin.</td>\n",
       "      <td>2343.0</td>\n",
       "      <td>no</td>\n",
       "      <td>1</td>\n",
       "      <td>-1.0</td>\n",
       "      <td>0</td>\n",
       "      <td>unknown</td>\n",
       "      <td>yes</td>\n",
       "    </tr>\n",
       "    <tr>\n",
       "      <th>1</th>\n",
       "      <td>56</td>\n",
       "      <td>admin.</td>\n",
       "      <td>45.0</td>\n",
       "      <td>no</td>\n",
       "      <td>1</td>\n",
       "      <td>-1.0</td>\n",
       "      <td>0</td>\n",
       "      <td>unknown</td>\n",
       "      <td>yes</td>\n",
       "    </tr>\n",
       "    <tr>\n",
       "      <th>2</th>\n",
       "      <td>41</td>\n",
       "      <td>technician</td>\n",
       "      <td>1270.0</td>\n",
       "      <td>no</td>\n",
       "      <td>1</td>\n",
       "      <td>-1.0</td>\n",
       "      <td>0</td>\n",
       "      <td>unknown</td>\n",
       "      <td>yes</td>\n",
       "    </tr>\n",
       "  </tbody>\n",
       "</table>\n",
       "</div>"
      ],
      "text/plain": [
       "   age         job  balance loan  campaign  pdays  previous poutcome    y\n",
       "0   59      admin.   2343.0   no         1   -1.0         0  unknown  yes\n",
       "1   56      admin.     45.0   no         1   -1.0         0  unknown  yes\n",
       "2   41  technician   1270.0   no         1   -1.0         0  unknown  yes"
      ]
     },
     "execution_count": 13,
     "metadata": {},
     "output_type": "execute_result"
    }
   ],
   "source": [
    "data.head(3)"
   ]
  },
  {
   "cell_type": "markdown",
   "id": "7a1fc113-4cd6-4996-b775-a42e44c29349",
   "metadata": {},
   "source": [
    "### Categorising data into numerical and categorical separately"
   ]
  },
  {
   "cell_type": "code",
   "execution_count": 14,
   "id": "1e53587e-5984-42d0-9e63-307e37f602de",
   "metadata": {},
   "outputs": [
    {
     "data": {
      "text/html": [
       "<div>\n",
       "<style scoped>\n",
       "    .dataframe tbody tr th:only-of-type {\n",
       "        vertical-align: middle;\n",
       "    }\n",
       "\n",
       "    .dataframe tbody tr th {\n",
       "        vertical-align: top;\n",
       "    }\n",
       "\n",
       "    .dataframe thead th {\n",
       "        text-align: right;\n",
       "    }\n",
       "</style>\n",
       "<table border=\"1\" class=\"dataframe\">\n",
       "  <thead>\n",
       "    <tr style=\"text-align: right;\">\n",
       "      <th></th>\n",
       "      <th>age</th>\n",
       "      <th>balance</th>\n",
       "      <th>campaign</th>\n",
       "      <th>pdays</th>\n",
       "      <th>previous</th>\n",
       "    </tr>\n",
       "  </thead>\n",
       "  <tbody>\n",
       "    <tr>\n",
       "      <th>0</th>\n",
       "      <td>59</td>\n",
       "      <td>2343.0</td>\n",
       "      <td>1</td>\n",
       "      <td>-1.0</td>\n",
       "      <td>0</td>\n",
       "    </tr>\n",
       "    <tr>\n",
       "      <th>1</th>\n",
       "      <td>56</td>\n",
       "      <td>45.0</td>\n",
       "      <td>1</td>\n",
       "      <td>-1.0</td>\n",
       "      <td>0</td>\n",
       "    </tr>\n",
       "  </tbody>\n",
       "</table>\n",
       "</div>"
      ],
      "text/plain": [
       "   age  balance  campaign  pdays  previous\n",
       "0   59   2343.0         1   -1.0         0\n",
       "1   56     45.0         1   -1.0         0"
      ]
     },
     "execution_count": 14,
     "metadata": {},
     "output_type": "execute_result"
    }
   ],
   "source": [
    "num_data=data.select_dtypes(include=\"number\")\n",
    "num_data.head(2)"
   ]
  },
  {
   "cell_type": "code",
   "execution_count": 15,
   "id": "2548bcc7-beca-4750-bc4b-4bf2ae65f63b",
   "metadata": {},
   "outputs": [
    {
     "data": {
      "text/html": [
       "<div>\n",
       "<style scoped>\n",
       "    .dataframe tbody tr th:only-of-type {\n",
       "        vertical-align: middle;\n",
       "    }\n",
       "\n",
       "    .dataframe tbody tr th {\n",
       "        vertical-align: top;\n",
       "    }\n",
       "\n",
       "    .dataframe thead th {\n",
       "        text-align: right;\n",
       "    }\n",
       "</style>\n",
       "<table border=\"1\" class=\"dataframe\">\n",
       "  <thead>\n",
       "    <tr style=\"text-align: right;\">\n",
       "      <th></th>\n",
       "      <th>job</th>\n",
       "      <th>loan</th>\n",
       "      <th>poutcome</th>\n",
       "      <th>y</th>\n",
       "    </tr>\n",
       "  </thead>\n",
       "  <tbody>\n",
       "    <tr>\n",
       "      <th>0</th>\n",
       "      <td>admin.</td>\n",
       "      <td>no</td>\n",
       "      <td>unknown</td>\n",
       "      <td>yes</td>\n",
       "    </tr>\n",
       "    <tr>\n",
       "      <th>1</th>\n",
       "      <td>admin.</td>\n",
       "      <td>no</td>\n",
       "      <td>unknown</td>\n",
       "      <td>yes</td>\n",
       "    </tr>\n",
       "    <tr>\n",
       "      <th>2</th>\n",
       "      <td>technician</td>\n",
       "      <td>no</td>\n",
       "      <td>unknown</td>\n",
       "      <td>yes</td>\n",
       "    </tr>\n",
       "  </tbody>\n",
       "</table>\n",
       "</div>"
      ],
      "text/plain": [
       "          job loan poutcome    y\n",
       "0      admin.   no  unknown  yes\n",
       "1      admin.   no  unknown  yes\n",
       "2  technician   no  unknown  yes"
      ]
     },
     "execution_count": 15,
     "metadata": {},
     "output_type": "execute_result"
    }
   ],
   "source": [
    "cat_data=data.select_dtypes(include=\"object_\")\n",
    "cat_data.head(3)"
   ]
  },
  {
   "cell_type": "markdown",
   "id": "8f935e9d-5922-4b79-a3d9-0e71fe613729",
   "metadata": {},
   "source": [
    "### Separate histograms of each numerical columns"
   ]
  },
  {
   "cell_type": "code",
   "execution_count": 16,
   "id": "e2a0183f-d80c-4645-a571-869e7e725cb7",
   "metadata": {},
   "outputs": [
    {
     "data": {
      "image/png": "[encoded data removed]",
      "text/plain": [
       "<Figure size 640x480 with 1 Axes>"
      ]
     },
     "metadata": {},
     "output_type": "display_data"
    },
    {
     "data": {
      "image/png": "[encoded data removed]",
      "text/plain": [
       "<Figure size 640x480 with 1 Axes>"
      ]
     },
     "metadata": {},
     "output_type": "display_data"
    },
    {
     "data": {
      "image/png": "[encoded data removed]",
      "text/plain": [
       "<Figure size 640x480 with 1 Axes>"
      ]
     },
     "metadata": {},
     "output_type": "display_data"
    },
    {
     "data": {
      "image/png": "[encoded data removed]",
      "text/plain": [
       "<Figure size 640x480 with 1 Axes>"
      ]
     },
     "metadata": {},
     "output_type": "display_data"
    },
    {
     "data": {
      "image/png": "[encoded data removed]",
      "text/plain": [
       "<Figure size 640x480 with 1 Axes>"
      ]
     },
     "metadata": {},
     "output_type": "display_data"
    }
   ],
   "source": [
    "for col in num_data:\n",
    "    plt.hist(num_data[col])\n",
    "    plt.xlabel(col)\n",
    "    plt.show()"
   ]
  },
  {
   "cell_type": "markdown",
   "id": "3187cdd6-14a8-4a6f-926b-e8e21b5fe532",
   "metadata": {},
   "source": [
    "### Filling null values in numerical columns using median()"
   ]
  },
  {
   "cell_type": "code",
   "execution_count": 17,
   "id": "ee4419ec-5aee-4b67-b00d-8ab850b865ac",
   "metadata": {},
   "outputs": [],
   "source": [
    "for i in num_data:\n",
    "    num_data[i]=num_data[i].fillna(num_data[i].median())"
   ]
  },
  {
   "cell_type": "code",
   "execution_count": 18,
   "id": "9c3b02d3-6547-47c8-aa93-2906ccb47a52",
   "metadata": {},
   "outputs": [
    {
     "data": {
      "text/plain": [
       "age         0\n",
       "balance     0\n",
       "campaign    0\n",
       "pdays       0\n",
       "previous    0\n",
       "dtype: int64"
      ]
     },
     "execution_count": 18,
     "metadata": {},
     "output_type": "execute_result"
    }
   ],
   "source": [
    "num_data.isna().sum()"
   ]
  },
  {
   "cell_type": "markdown",
   "id": "61382464-9159-4109-9a8a-158455c679fd",
   "metadata": {},
   "source": [
    "### Filling null values in categorical columns using mode()"
   ]
  },
  {
   "cell_type": "code",
   "execution_count": 19,
   "id": "dc851819-d2f2-45e4-bf45-be10a34044e8",
   "metadata": {},
   "outputs": [],
   "source": [
    "for i in cat_data:\n",
    "    cat_data[i]=cat_data[i].fillna(cat_data[i].mode()[0])"
   ]
  },
  {
   "cell_type": "code",
   "execution_count": 20,
   "id": "14245a89-c879-41a0-99fc-cb2247077f82",
   "metadata": {},
   "outputs": [
    {
     "data": {
      "text/plain": [
       "job         0\n",
       "loan        0\n",
       "poutcome    0\n",
       "y           0\n",
       "dtype: int64"
      ]
     },
     "execution_count": 20,
     "metadata": {},
     "output_type": "execute_result"
    }
   ],
   "source": [
    "cat_data.isna().sum()"
   ]
  },
  {
   "cell_type": "markdown",
   "id": "b7bb3e74-ddf1-4afa-b295-f0d3fc9cfc38",
   "metadata": {},
   "source": [
    "### Boxplot "
   ]
  },
  {
   "cell_type": "code",
   "execution_count": 21,
   "id": "cb2ff31f-c732-4c18-ae4a-92308bfaa8db",
   "metadata": {},
   "outputs": [
    {
     "data": {
      "image/png": "[encoded data removed]",
      "text/plain": [
       "<Figure size 1000x800 with 1 Axes>"
      ]
     },
     "metadata": {},
     "output_type": "display_data"
    }
   ],
   "source": [
    "plt.figure(figsize=(10,8))\n",
    "plt.boxplot(num_data)\n",
    "plt.show()"
   ]
  },
  {
   "cell_type": "markdown",
   "id": "f7abd5e5-d245-4f7c-b530-933884a92b24",
   "metadata": {},
   "source": [
    "### Outlier Removal"
   ]
  },
  {
   "cell_type": "code",
   "execution_count": 22,
   "id": "13b9ea46-73d6-45da-8e45-ac81cb43a968",
   "metadata": {},
   "outputs": [],
   "source": [
    "def replace_outlier_with_ub(data,column):\n",
    "    q1=data[column].quantile(0.25)\n",
    "    q3=data[column].quantile(0.75)\n",
    "    iqr=q3-q1\n",
    "    ub=q3+1.5*iqr\n",
    "    lb=q1-1.5*iqr\n",
    "    data[column]=data[column].clip(upper=ub)\n",
    "    data[column]=data[column].clip(lower=lb)\n",
    "    return data[column]"
   ]
  },
  {
   "cell_type": "code",
   "execution_count": 23,
   "id": "08c0b504-8253-4b38-b4a3-77861969c48a",
   "metadata": {},
   "outputs": [],
   "source": [
    "for col in num_data:\n",
    "  num_data[col]=replace_outlier_with_ub(num_data,col)"
   ]
  },
  {
   "cell_type": "code",
   "execution_count": 24,
   "id": "2d12a980-8dbe-4b41-a138-2cc7927718af",
   "metadata": {},
   "outputs": [
    {
     "data": {
      "image/png": "[encoded data removed]",
      "text/plain": [
       "<Figure size 640x480 with 1 Axes>"
      ]
     },
     "metadata": {},
     "output_type": "display_data"
    }
   ],
   "source": [
    "plt.boxplot(num_data)\n",
    "plt.show()"
   ]
  },
  {
   "cell_type": "markdown",
   "id": "0de7a465-a66f-4d23-99df-f0a348562e82",
   "metadata": {},
   "source": [
    " ### MinMaxScaling"
   ]
  },
  {
   "cell_type": "code",
   "execution_count": 25,
   "id": "ebf42306-621e-4f67-a4a6-c330d2eb5487",
   "metadata": {},
   "outputs": [],
   "source": [
    "#for col in num_data:              \n",
    "    #num_data[col]=(num_data[col]-num_data[col].min())/(num_data[col].max()-num_data[col].min()) "
   ]
  },
  {
   "cell_type": "code",
   "execution_count": 26,
   "id": "25e4e6b0-d718-459e-92c6-9651db27a8bc",
   "metadata": {},
   "outputs": [
    {
     "data": {
      "text/html": [
       "<div>\n",
       "<style scoped>\n",
       "    .dataframe tbody tr th:only-of-type {\n",
       "        vertical-align: middle;\n",
       "    }\n",
       "\n",
       "    .dataframe tbody tr th {\n",
       "        vertical-align: top;\n",
       "    }\n",
       "\n",
       "    .dataframe thead th {\n",
       "        text-align: right;\n",
       "    }\n",
       "</style>\n",
       "<table border=\"1\" class=\"dataframe\">\n",
       "  <thead>\n",
       "    <tr style=\"text-align: right;\">\n",
       "      <th></th>\n",
       "      <th>age</th>\n",
       "      <th>balance</th>\n",
       "      <th>campaign</th>\n",
       "      <th>pdays</th>\n",
       "      <th>previous</th>\n",
       "    </tr>\n",
       "  </thead>\n",
       "  <tbody>\n",
       "    <tr>\n",
       "      <th>0</th>\n",
       "      <td>0.796117</td>\n",
       "      <td>0.741317</td>\n",
       "      <td>0.0</td>\n",
       "      <td>0.0</td>\n",
       "      <td>0.0</td>\n",
       "    </tr>\n",
       "    <tr>\n",
       "      <th>1</th>\n",
       "      <td>0.737864</td>\n",
       "      <td>0.364843</td>\n",
       "      <td>0.0</td>\n",
       "      <td>0.0</td>\n",
       "      <td>0.0</td>\n",
       "    </tr>\n",
       "    <tr>\n",
       "      <th>2</th>\n",
       "      <td>0.446602</td>\n",
       "      <td>0.565531</td>\n",
       "      <td>0.0</td>\n",
       "      <td>0.0</td>\n",
       "      <td>0.0</td>\n",
       "    </tr>\n",
       "    <tr>\n",
       "      <th>3</th>\n",
       "      <td>0.718447</td>\n",
       "      <td>0.763106</td>\n",
       "      <td>0.0</td>\n",
       "      <td>0.0</td>\n",
       "      <td>0.0</td>\n",
       "    </tr>\n",
       "    <tr>\n",
       "      <th>4</th>\n",
       "      <td>0.699029</td>\n",
       "      <td>0.387615</td>\n",
       "      <td>0.2</td>\n",
       "      <td>0.0</td>\n",
       "      <td>0.0</td>\n",
       "    </tr>\n",
       "  </tbody>\n",
       "</table>\n",
       "</div>"
      ],
      "text/plain": [
       "        age   balance  campaign  pdays  previous\n",
       "0  0.796117  0.741317       0.0    0.0       0.0\n",
       "1  0.737864  0.364843       0.0    0.0       0.0\n",
       "2  0.446602  0.565531       0.0    0.0       0.0\n",
       "3  0.718447  0.763106       0.0    0.0       0.0\n",
       "4  0.699029  0.387615       0.2    0.0       0.0"
      ]
     },
     "execution_count": 26,
     "metadata": {},
     "output_type": "execute_result"
    }
   ],
   "source": [
    "mms=MinMaxScaler()\n",
    "scaler=mms.fit_transform(num_data)\n",
    "data_scaled=pd.DataFrame(scaler,columns=num_data.columns)\n",
    "data_scaled.head()"
   ]
  },
  {
   "cell_type": "markdown",
   "id": "a90b1c0c-0e99-4941-aab3-38a05550c3c7",
   "metadata": {},
   "source": [
    "### Label Encoding"
   ]
  },
  {
   "cell_type": "code",
   "execution_count": 28,
   "id": "3ff51e02-1d54-4df6-a229-785d8ad2a4f0",
   "metadata": {},
   "outputs": [],
   "source": [
    "for col in cat_data:           \n",
    "    le=LabelEncoder()\n",
    "    cat_data[col]=le.fit_transform(cat_data[col])"
   ]
  },
  {
   "cell_type": "code",
   "execution_count": 29,
   "id": "c3c38e02-4706-4fb3-907f-13fb3c8791e9",
   "metadata": {},
   "outputs": [
    {
     "data": {
      "text/html": [
       "<div>\n",
       "<style scoped>\n",
       "    .dataframe tbody tr th:only-of-type {\n",
       "        vertical-align: middle;\n",
       "    }\n",
       "\n",
       "    .dataframe tbody tr th {\n",
       "        vertical-align: top;\n",
       "    }\n",
       "\n",
       "    .dataframe thead th {\n",
       "        text-align: right;\n",
       "    }\n",
       "</style>\n",
       "<table border=\"1\" class=\"dataframe\">\n",
       "  <thead>\n",
       "    <tr style=\"text-align: right;\">\n",
       "      <th></th>\n",
       "      <th>job</th>\n",
       "      <th>loan</th>\n",
       "      <th>poutcome</th>\n",
       "      <th>y</th>\n",
       "    </tr>\n",
       "  </thead>\n",
       "  <tbody>\n",
       "    <tr>\n",
       "      <th>0</th>\n",
       "      <td>0</td>\n",
       "      <td>0</td>\n",
       "      <td>3</td>\n",
       "      <td>1</td>\n",
       "    </tr>\n",
       "    <tr>\n",
       "      <th>1</th>\n",
       "      <td>0</td>\n",
       "      <td>0</td>\n",
       "      <td>3</td>\n",
       "      <td>1</td>\n",
       "    </tr>\n",
       "    <tr>\n",
       "      <th>2</th>\n",
       "      <td>9</td>\n",
       "      <td>0</td>\n",
       "      <td>3</td>\n",
       "      <td>1</td>\n",
       "    </tr>\n",
       "    <tr>\n",
       "      <th>3</th>\n",
       "      <td>7</td>\n",
       "      <td>0</td>\n",
       "      <td>3</td>\n",
       "      <td>1</td>\n",
       "    </tr>\n",
       "    <tr>\n",
       "      <th>4</th>\n",
       "      <td>0</td>\n",
       "      <td>0</td>\n",
       "      <td>3</td>\n",
       "      <td>1</td>\n",
       "    </tr>\n",
       "  </tbody>\n",
       "</table>\n",
       "</div>"
      ],
      "text/plain": [
       "   job  loan  poutcome  y\n",
       "0    0     0         3  1\n",
       "1    0     0         3  1\n",
       "2    9     0         3  1\n",
       "3    7     0         3  1\n",
       "4    0     0         3  1"
      ]
     },
     "execution_count": 29,
     "metadata": {},
     "output_type": "execute_result"
    }
   ],
   "source": [
    "cat_data.head()"
   ]
  },
  {
   "cell_type": "code",
   "execution_count": 30,
   "id": "acd03d37-c370-49be-88cf-26c73405f4f1",
   "metadata": {},
   "outputs": [
    {
     "data": {
      "text/plain": [
       "y\n",
       "0    5572\n",
       "1    5289\n",
       "Name: count, dtype: int64"
      ]
     },
     "execution_count": 30,
     "metadata": {},
     "output_type": "execute_result"
    }
   ],
   "source": [
    "cat_data['y'].value_counts()"
   ]
  },
  {
   "cell_type": "markdown",
   "id": "45f48170-5834-4f46-a35f-735ff6775359",
   "metadata": {},
   "source": [
    " ### concatinating numerical and categorical data again as final_df"
   ]
  },
  {
   "cell_type": "code",
   "execution_count": 35,
   "id": "c15ece96-0616-4f94-8f9e-aa7015a8d76c",
   "metadata": {},
   "outputs": [
    {
     "data": {
      "text/html": [
       "<div>\n",
       "<style scoped>\n",
       "    .dataframe tbody tr th:only-of-type {\n",
       "        vertical-align: middle;\n",
       "    }\n",
       "\n",
       "    .dataframe tbody tr th {\n",
       "        vertical-align: top;\n",
       "    }\n",
       "\n",
       "    .dataframe thead th {\n",
       "        text-align: right;\n",
       "    }\n",
       "</style>\n",
       "<table border=\"1\" class=\"dataframe\">\n",
       "  <thead>\n",
       "    <tr style=\"text-align: right;\">\n",
       "      <th></th>\n",
       "      <th>age</th>\n",
       "      <th>balance</th>\n",
       "      <th>campaign</th>\n",
       "      <th>pdays</th>\n",
       "      <th>previous</th>\n",
       "      <th>job</th>\n",
       "      <th>loan</th>\n",
       "      <th>poutcome</th>\n",
       "      <th>y</th>\n",
       "    </tr>\n",
       "  </thead>\n",
       "  <tbody>\n",
       "    <tr>\n",
       "      <th>0</th>\n",
       "      <td>0.796117</td>\n",
       "      <td>0.741317</td>\n",
       "      <td>0.0</td>\n",
       "      <td>0.0</td>\n",
       "      <td>0.0</td>\n",
       "      <td>0</td>\n",
       "      <td>0</td>\n",
       "      <td>3</td>\n",
       "      <td>1</td>\n",
       "    </tr>\n",
       "    <tr>\n",
       "      <th>1</th>\n",
       "      <td>0.737864</td>\n",
       "      <td>0.364843</td>\n",
       "      <td>0.0</td>\n",
       "      <td>0.0</td>\n",
       "      <td>0.0</td>\n",
       "      <td>0</td>\n",
       "      <td>0</td>\n",
       "      <td>3</td>\n",
       "      <td>1</td>\n",
       "    </tr>\n",
       "    <tr>\n",
       "      <th>2</th>\n",
       "      <td>0.446602</td>\n",
       "      <td>0.565531</td>\n",
       "      <td>0.0</td>\n",
       "      <td>0.0</td>\n",
       "      <td>0.0</td>\n",
       "      <td>9</td>\n",
       "      <td>0</td>\n",
       "      <td>3</td>\n",
       "      <td>1</td>\n",
       "    </tr>\n",
       "  </tbody>\n",
       "</table>\n",
       "</div>"
      ],
      "text/plain": [
       "        age   balance  campaign  pdays  previous  job  loan  poutcome  y\n",
       "0  0.796117  0.741317       0.0    0.0       0.0    0     0         3  1\n",
       "1  0.737864  0.364843       0.0    0.0       0.0    0     0         3  1\n",
       "2  0.446602  0.565531       0.0    0.0       0.0    9     0         3  1"
      ]
     },
     "execution_count": 35,
     "metadata": {},
     "output_type": "execute_result"
    }
   ],
   "source": [
    "final_data= pd.concat([data_scaled, cat_data],axis=1)    \n",
    "final_data.head(3)"
   ]
  },
  {
   "cell_type": "code",
   "execution_count": 40,
   "id": "8fb0abf5-18b0-4256-bc48-7b07be4428a1",
   "metadata": {},
   "outputs": [],
   "source": [
    "X=final_data.drop(columns=['y'])\n",
    "y=final_data['y']"
   ]
  },
  {
   "cell_type": "markdown",
   "id": "e7fbfb2d-d185-4422-8816-e6c128a6556f",
   "metadata": {},
   "source": [
    "### Train Test Split"
   ]
  },
  {
   "cell_type": "code",
   "execution_count": 41,
   "id": "70023a65-fb2c-4434-941d-2febc24b788c",
   "metadata": {},
   "outputs": [],
   "source": [
    "X_train,X_test,y_train,y_test=train_test_split(X,y,test_size=0.2,random_state=42)"
   ]
  },
  {
   "cell_type": "markdown",
   "id": "0e44a586-2ae6-4da2-a5e1-2850647a0b0b",
   "metadata": {},
   "source": [
    "## Model Selection and Training"
   ]
  },
  {
   "cell_type": "markdown",
   "id": "64b8215f-9306-4946-ae59-ba8290bb87a8",
   "metadata": {},
   "source": [
    "### DecisionTreeClassifier"
   ]
  },
  {
   "cell_type": "code",
   "execution_count": 46,
   "id": "fa7a1b91-85f4-4e05-8e55-70b4e5ccf52c",
   "metadata": {},
   "outputs": [
    {
     "name": "stdout",
     "output_type": "stream",
     "text": [
      "Accuracy: 65.66958122411413 %\n"
     ]
    }
   ],
   "source": [
    "dtc_model = DecisionTreeClassifier()\n",
    "dtc_model.fit(X_train,y_train)\n",
    "dtc_pred = dtc_model.predict(X_test)\n",
    "\n",
    "\n",
    "dtc_accuracy = accuracy_score(y_test,dtc_pred)\n",
    "print(f\"Accuracy: {dtc_accuracy * 100} %\")"
   ]
  },
  {
   "cell_type": "markdown",
   "id": "5954a06b-3f82-45e1-952a-2b582a610ade",
   "metadata": {},
   "source": [
    "###  RandomForestClassifier"
   ]
  },
  {
   "cell_type": "code",
   "execution_count": 51,
   "id": "2a6ace35-4cb5-4fc8-a1ff-18ce3b1defdf",
   "metadata": {},
   "outputs": [
    {
     "name": "stdout",
     "output_type": "stream",
     "text": [
      "Accuracy: 69.12103083294984 %\n"
     ]
    }
   ],
   "source": [
    "RF_model =  RandomForestClassifier()\n",
    "RF_model.fit(X_train,y_train)\n",
    "RF_pred = RF_model.predict(X_test)\n",
    "\n",
    "\n",
    "RF_accuracy = accuracy_score(y_test,RF_pred)\n",
    "print(f\"Accuracy: {RF_accuracy * 100} %\")"
   ]
  },
  {
   "cell_type": "markdown",
   "id": "68f59021-7b2f-4e5d-9b11-5ac6b22ca427",
   "metadata": {},
   "source": [
    "### KNeighborsClassifier"
   ]
  },
  {
   "cell_type": "code",
   "execution_count": 53,
   "id": "b5626a85-7c50-406d-b5df-2c05e6b801c3",
   "metadata": {},
   "outputs": [
    {
     "name": "stdout",
     "output_type": "stream",
     "text": [
      "Accuracy: 69.94937873907041 %\n"
     ]
    }
   ],
   "source": [
    "knn_model = KNeighborsClassifier()\n",
    "knn_model.fit(X_train,y_train)\n",
    "knn_pred = knn_model.predict(X_test)\n",
    "\n",
    "\n",
    "knn_accuracy = accuracy_score(y_test,knn_pred)\n",
    "print(f\"Accuracy: {knn_accuracy * 100} %\")"
   ]
  },
  {
   "cell_type": "markdown",
   "id": "95315efc-5661-476d-a425-bd1c0b281ec6",
   "metadata": {},
   "source": [
    "###  LogisticRegression"
   ]
  },
  {
   "cell_type": "code",
   "execution_count": 57,
   "id": "ac016654-6443-4515-8e52-75e58b1a7c76",
   "metadata": {},
   "outputs": [
    {
     "name": "stdout",
     "output_type": "stream",
     "text": [
      "Accuracy: 71.05384261389783 %\n"
     ]
    }
   ],
   "source": [
    "LR_model = LogisticRegression()\n",
    "LR_model.fit(X_train,y_train)\n",
    "LR_pred = LR_model.predict(X_test)\n",
    "\n",
    "\n",
    "LR_accuracy = accuracy_score(y_test,LR_pred)\n",
    "print(f\"Accuracy: {LR_accuracy * 100} %\")"
   ]
  },
  {
   "cell_type": "markdown",
   "id": "f8a45377-7738-4411-82b5-e0d19d69265b",
   "metadata": {},
   "source": [
    "### SVC"
   ]
  },
  {
   "cell_type": "code",
   "execution_count": 59,
   "id": "78464503-5858-4e63-8dff-8804eb825bbb",
   "metadata": {},
   "outputs": [
    {
     "name": "stdout",
     "output_type": "stream",
     "text": [
      "Accuracy: 72.02024850437184 %\n"
     ]
    }
   ],
   "source": [
    "svc_model = SVC()\n",
    "svc_model.fit(X_train,y_train)\n",
    "svc_pred = svc_model.predict(X_test)\n",
    "\n",
    "\n",
    "svc_accuracy = accuracy_score(y_test,svc_pred)\n",
    "print(f\"Accuracy: {svc_accuracy * 100} %\")"
   ]
  },
  {
   "cell_type": "code",
   "execution_count": 63,
   "id": "7c24374e-9823-47f0-b81e-526bf791daf9",
   "metadata": {},
   "outputs": [
    {
     "name": "stdout",
     "output_type": "stream",
     "text": [
      "              precision    recall  f1-score   support\n",
      "\n",
      "           0       0.67      0.91      0.77      1119\n",
      "           1       0.84      0.52      0.64      1054\n",
      "\n",
      "    accuracy                           0.72      2173\n",
      "   macro avg       0.76      0.71      0.71      2173\n",
      "weighted avg       0.75      0.72      0.71      2173\n",
      "\n"
     ]
    }
   ],
   "source": [
    "print(classification_report(y_test,svc_pred))"
   ]
  },
  {
   "cell_type": "code",
   "execution_count": null,
   "id": "091a4d22-a51a-4e04-8b3e-282993fe6611",
   "metadata": {},
   "outputs": [],
   "source": []
  },
  {
   "cell_type": "code",
   "execution_count": null,
   "id": "226766fd-8a37-45bf-a4b9-289b3f9c51f3",
   "metadata": {},
   "outputs": [],
   "source": []
  },
  {
   "cell_type": "code",
   "execution_count": null,
   "id": "5f55594a-d6e2-42c9-b421-bb0291aaecd8",
   "metadata": {},
   "outputs": [],
   "source": []
  }
 ],
 "metadata": {
  "kernelspec": {
   "display_name": "Python 3 (ipykernel)",
   "language": "python",
   "name": "python3"
  },
  "language_info": {
   "codemirror_mode": {
    "name": "ipython",
    "version": 3
   },
   "file_extension": ".py",
   "mimetype": "text/x-python",
   "name": "python",
   "nbconvert_exporter": "python",
   "pygments_lexer": "ipython3",
   "version": "3.12.7"
  }
 },
 "nbformat": 4,
 "nbformat_minor": 5
}
